{
 "cells": [
  {
   "cell_type": "code",
   "execution_count": 1,
   "id": "6eb569cc-8891-4276-bad2-f4f23c64ac3e",
   "metadata": {},
   "outputs": [],
   "source": [
    "class Person:\n",
    "    __nationality = 'Japan'\n",
    "\n",
    "    def __init__(self, name):\n",
    "        self.name = name\n",
    "        \n",
    "    def say_hello(self):\n",
    "        print(f'Hello! My nationality is {self.__nationality}')\n",
    "\n",
    "    def __say_my_name(self):\n",
    "        print(f'My name is {self.name}')"
   ]
  },
  {
   "cell_type": "code",
   "execution_count": 2,
   "id": "7dcf4c2c-7838-48a2-a905-58d0f11db302",
   "metadata": {},
   "outputs": [],
   "source": [
    "sable = Person('SABLE')"
   ]
  },
  {
   "cell_type": "code",
   "execution_count": 3,
   "id": "1b0ede66-732e-400c-a327-01c4dcf35c7a",
   "metadata": {},
   "outputs": [
    {
     "data": {
      "text/plain": [
       "'SABLE'"
      ]
     },
     "execution_count": 3,
     "metadata": {},
     "output_type": "execute_result"
    }
   ],
   "source": [
    "sable.name"
   ]
  },
  {
   "cell_type": "code",
   "execution_count": 4,
   "id": "229de532-62bd-4538-a979-d52c9df05622",
   "metadata": {},
   "outputs": [
    {
     "ename": "AttributeError",
     "evalue": "'Person' object has no attribute '__nationality'",
     "output_type": "error",
     "traceback": [
      "\u001b[0;31m---------------------------------------------------------------------------\u001b[0m",
      "\u001b[0;31mAttributeError\u001b[0m                            Traceback (most recent call last)",
      "Cell \u001b[0;32mIn[4], line 1\u001b[0m\n\u001b[0;32m----> 1\u001b[0m \u001b[43msable\u001b[49m\u001b[38;5;241;43m.\u001b[39;49m\u001b[43m__nationality\u001b[49m\n",
      "\u001b[0;31mAttributeError\u001b[0m: 'Person' object has no attribute '__nationality'"
     ]
    }
   ],
   "source": [
    "sable.__nationality"
   ]
  },
  {
   "cell_type": "code",
   "execution_count": 2,
   "id": "a3adb807-4f3f-46a4-a02b-3a9e0e50e1af",
   "metadata": {},
   "outputs": [
    {
     "ename": "NameError",
     "evalue": "name 'sable__say_my_name' is not defined",
     "output_type": "error",
     "traceback": [
      "\u001b[0;31m---------------------------------------------------------------------------\u001b[0m",
      "\u001b[0;31mNameError\u001b[0m                                 Traceback (most recent call last)",
      "Cell \u001b[0;32mIn[2], line 1\u001b[0m\n\u001b[0;32m----> 1\u001b[0m \u001b[43msable__say_my_name\u001b[49m\n",
      "\u001b[0;31mNameError\u001b[0m: name 'sable__say_my_name' is not defined"
     ]
    }
   ],
   "source": [
    "sable__say_my_name"
   ]
  },
  {
   "cell_type": "code",
   "execution_count": 6,
   "id": "091910fc-b454-4e90-a428-d2d4bbd226aa",
   "metadata": {},
   "outputs": [],
   "source": [
    "file = open('sample.txt')\n",
    "text = file.read()\n",
    "file.close()"
   ]
  },
  {
   "cell_type": "code",
   "execution_count": 7,
   "id": "de75563e-2b6f-4fe5-beb8-ad718ef98877",
   "metadata": {},
   "outputs": [
    {
     "name": "stdout",
     "output_type": "stream",
     "text": [
      "Hi my name is Sachiyo.\n",
      "How are you doing ?\n"
     ]
    }
   ],
   "source": [
    "print(text)"
   ]
  },
  {
   "cell_type": "code",
   "execution_count": 15,
   "id": "f0449a0f-876c-4ba3-bb29-dfe71e517c9d",
   "metadata": {},
   "outputs": [],
   "source": [
    "with open ('sample.txt', 'r') as f:\n",
    "    text = f.read()"
   ]
  },
  {
   "cell_type": "code",
   "execution_count": 16,
   "id": "f1735260-0b1e-47a6-9420-af19b5c06873",
   "metadata": {},
   "outputs": [
    {
     "name": "stdout",
     "output_type": "stream",
     "text": [
      "Hi my name is Sachiyo.\n",
      "How are you doing ?\n"
     ]
    }
   ],
   "source": [
    "print(text)"
   ]
  },
  {
   "cell_type": "code",
   "execution_count": 11,
   "id": "f3a34ee5-fe2b-4399-9e36-36e63fe4d7e7",
   "metadata": {},
   "outputs": [],
   "source": [
    "file = open('sample.txt')\n",
    "text = file.read()\n",
    "file.close()"
   ]
  },
  {
   "cell_type": "code",
   "execution_count": 12,
   "id": "ac5187a5-dd75-4c2a-a043-9514795ecd33",
   "metadata": {},
   "outputs": [
    {
     "name": "stdout",
     "output_type": "stream",
     "text": [
      "Bonjour, Je m'appelle Sachiyo\n",
      "Bonne année !!!\n"
     ]
    }
   ],
   "source": [
    "print(text)"
   ]
  },
  {
   "cell_type": "code",
   "execution_count": 13,
   "id": "f69074ec-982e-4444-ab84-9052dedc2e66",
   "metadata": {},
   "outputs": [],
   "source": [
    "with open('sample.txt', 'r') as f:\n",
    "    text = f.read()"
   ]
  },
  {
   "cell_type": "code",
   "execution_count": 14,
   "id": "d361de36-79f4-4919-a284-ffbf109a1c52",
   "metadata": {},
   "outputs": [
    {
     "name": "stdout",
     "output_type": "stream",
     "text": [
      "Bonjour, Je m'appelle Sachiyo\n",
      "Bonne année !!!\n"
     ]
    }
   ],
   "source": [
    "print(text)"
   ]
  },
  {
   "cell_type": "code",
   "execution_count": 21,
   "id": "580891d1-a4c5-444c-9054-62175fd73a07",
   "metadata": {},
   "outputs": [],
   "source": [
    "import json"
   ]
  },
  {
   "cell_type": "code",
   "execution_count": 27,
   "id": "114b126f-5d47-4d8a-b3b7-30e42e92c150",
   "metadata": {},
   "outputs": [],
   "source": [
    "with open('sample.json', 'r') as f:\n",
    "    data = json.load(f)"
   ]
  },
  {
   "cell_type": "code",
   "execution_count": 28,
   "id": "b6b1e777-531f-4c1f-a03b-69682274eb92",
   "metadata": {},
   "outputs": [
    {
     "data": {
      "text/plain": [
       "{'store_name': '神田店',\n",
       " 'items': [{'item_id': 0, 'item_name': 'コーラ'},\n",
       "  {'item_id': 1, 'item_name': '唐揚げ弁当'},\n",
       "  {'item_id': 2, 'item_name': '週刊誌'}]}"
      ]
     },
     "execution_count": 28,
     "metadata": {},
     "output_type": "execute_result"
    }
   ],
   "source": [
    "data"
   ]
  },
  {
   "cell_type": "code",
   "execution_count": 29,
   "id": "6e53ff21-ac1e-41bd-9cff-446845607aaf",
   "metadata": {},
   "outputs": [
    {
     "data": {
      "text/plain": [
       "'神田店'"
      ]
     },
     "execution_count": 29,
     "metadata": {},
     "output_type": "execute_result"
    }
   ],
   "source": [
    "data['store_name']"
   ]
  },
  {
   "cell_type": "code",
   "execution_count": 9,
   "id": "0f43c5b0-797f-4a84-b068-3810a1713fb5",
   "metadata": {},
   "outputs": [],
   "source": [
    "import os"
   ]
  },
  {
   "cell_type": "code",
   "execution_count": 10,
   "id": "a6095110-c475-413d-9047-a91cff532288",
   "metadata": {},
   "outputs": [
    {
     "name": "stdout",
     "output_type": "stream",
     "text": [
      "['people.csv', 'question81_100.ipynb', 'test_docPython.ipynb', 'Matplotlib.ipynb', 'question61_80.ipynb', 'export_csv', 'question1_20.ipynb', 'iris.csv', 'NumPy.ipynb', 'weather.csv', 'sample.json', 'sample.png', 'lambda.ipynb', 'question41_60.ipynb', 'question21_40.ipynb', 'sample.txt']\n",
      "['Untitled.ipynb', 'sample.py']\n",
      "['sample-checkpoint.py', 'Untitled-checkpoint.ipynb']\n",
      "['question41_60-checkpoint.ipynb', 'question81_100-checkpoint.ipynb', 'question61_80-checkpoint.ipynb', 'sample-checkpoint.png', 'people-checkpoint.csv', 'test_docPython-checkpoint.ipynb', 'sample-checkpoint.txt', 'question21_40-checkpoint.ipynb', 'export_csv-checkpoint', 'lambda-checkpoint.ipynb', 'question1_20-checkpoint.ipynb']\n",
      "[]\n"
     ]
    }
   ],
   "source": [
    "for curDir, dirs, files in os.walk('.'):\n",
    "    print(files)"
   ]
  },
  {
   "cell_type": "code",
   "execution_count": 11,
   "id": "6f636e80-9b28-4472-a59d-8460e9295e9f",
   "metadata": {},
   "outputs": [
    {
     "name": "stdout",
     "output_type": "stream",
     "text": [
      "['MatchCase', '.ipynb_checkpoints', 'sachiyo']\n",
      "['.ipynb_checkpoints']\n",
      "[]\n",
      "[]\n",
      "[]\n"
     ]
    }
   ],
   "source": [
    "for curDir, dirs, files in os.walk('.'):\n",
    "    print(dirs)"
   ]
  },
  {
   "cell_type": "code",
   "execution_count": 40,
   "id": "a325e152-f96e-43c7-979d-1d59986d1045",
   "metadata": {},
   "outputs": [
    {
     "name": "stdout",
     "output_type": "stream",
     "text": [
      "./file\n",
      "./file\n",
      "./file\n",
      "./file\n",
      "./file\n",
      "./MatchCase/file\n",
      "./MatchCase/file\n",
      "./MatchCase/.ipynb_checkpoints/file\n",
      "./MatchCase/.ipynb_checkpoints/file\n",
      "./.ipynb_checkpoints/file\n",
      "./.ipynb_checkpoints/file\n",
      "./.ipynb_checkpoints/file\n",
      "./.ipynb_checkpoints/file\n"
     ]
    }
   ],
   "source": [
    "for curDir, dirs, files in os.walk('.'):\n",
    "    for file in files:\n",
    "        print(f'{curDir}/file')"
   ]
  },
  {
   "cell_type": "code",
   "execution_count": 26,
   "id": "eb85100e-46e1-4d8c-a9bf-a0c030439efc",
   "metadata": {},
   "outputs": [
    {
     "data": {
      "text/plain": [
       "['MatchCase',\n",
       " 'people.csv',\n",
       " 'question81_100.ipynb',\n",
       " 'test_docPython.ipynb',\n",
       " 'Matplotlib.ipynb',\n",
       " 'question61_80.ipynb',\n",
       " 'question1_20.ipynb',\n",
       " 'iris.csv',\n",
       " 'weather.csv',\n",
       " 'sample.json',\n",
       " '.ipynb_checkpoints',\n",
       " 'question41_60.ipynb',\n",
       " 'question21_40.ipynb',\n",
       " 'sample.txt',\n",
       " 'sachiyo']"
      ]
     },
     "execution_count": 26,
     "metadata": {},
     "output_type": "execute_result"
    }
   ],
   "source": [
    "os.listdir('.')"
   ]
  },
  {
   "cell_type": "code",
   "execution_count": 27,
   "id": "17b8ffea-fb5d-48d0-b1d4-0dbc384ebd46",
   "metadata": {},
   "outputs": [
    {
     "data": {
      "text/plain": [
       "['.ipynb_checkpoints',\n",
       " 'MatchCase',\n",
       " 'Matplotlib.ipynb',\n",
       " 'iris.csv',\n",
       " 'people.csv',\n",
       " 'question1_20.ipynb',\n",
       " 'question21_40.ipynb',\n",
       " 'question41_60.ipynb',\n",
       " 'question61_80.ipynb',\n",
       " 'question81_100.ipynb',\n",
       " 'sachiyo',\n",
       " 'sample.json',\n",
       " 'sample.txt',\n",
       " 'test_docPython.ipynb',\n",
       " 'weather.csv']"
      ]
     },
     "execution_count": 27,
     "metadata": {},
     "output_type": "execute_result"
    }
   ],
   "source": [
    "lists = os.listdir('.')\n",
    "lists.sort()\n",
    "lists"
   ]
  },
  {
   "cell_type": "code",
   "execution_count": 4,
   "id": "2b63c206-2609-403b-b1ea-1f462ee2293a",
   "metadata": {},
   "outputs": [],
   "source": [
    "import os"
   ]
  },
  {
   "cell_type": "code",
   "execution_count": 41,
   "id": "9928e577-7e5b-48d7-99c8-015aadd449b3",
   "metadata": {},
   "outputs": [
    {
     "data": {
      "text/plain": [
       "'/Users/Sachiyo/Desktop/ImanyuDemo/MatchCase/file'"
      ]
     },
     "execution_count": 41,
     "metadata": {},
     "output_type": "execute_result"
    }
   ],
   "source": [
    "os.path.abspath('./MatchCase/file')"
   ]
  },
  {
   "cell_type": "code",
   "execution_count": 42,
   "id": "5f0282ee-9d0f-4a2e-a936-2a3bb3896693",
   "metadata": {},
   "outputs": [
    {
     "data": {
      "text/plain": [
       "'file'"
      ]
     },
     "execution_count": 42,
     "metadata": {},
     "output_type": "execute_result"
    }
   ],
   "source": [
    "os.path.basename('./MatchCase/file')"
   ]
  },
  {
   "cell_type": "code",
   "execution_count": 43,
   "id": "2fd7064d-813d-445e-be0d-8a3801551ade",
   "metadata": {},
   "outputs": [
    {
     "data": {
      "text/plain": [
       "False"
      ]
     },
     "execution_count": 43,
     "metadata": {},
     "output_type": "execute_result"
    }
   ],
   "source": [
    "os.path.exists('ma')"
   ]
  },
  {
   "cell_type": "code",
   "execution_count": 44,
   "id": "1a76d97c-e9a9-4b00-8acd-1ba5d21eafc2",
   "metadata": {},
   "outputs": [
    {
     "data": {
      "text/plain": [
       "True"
      ]
     },
     "execution_count": 44,
     "metadata": {},
     "output_type": "execute_result"
    }
   ],
   "source": [
    "os.path.exists('MatchCase')"
   ]
  },
  {
   "cell_type": "code",
   "execution_count": 45,
   "id": "b4f7da01-a8a0-4b1d-83d4-d80b6dde5f45",
   "metadata": {},
   "outputs": [
    {
     "data": {
      "text/plain": [
       "True"
      ]
     },
     "execution_count": 45,
     "metadata": {},
     "output_type": "execute_result"
    }
   ],
   "source": [
    "os.path.isdir('MatchCase')"
   ]
  },
  {
   "cell_type": "code",
   "execution_count": 15,
   "id": "b83fd5f6-1d48-47ec-8ada-55b3ee20bfde",
   "metadata": {},
   "outputs": [
    {
     "data": {
      "text/plain": [
       "True"
      ]
     },
     "execution_count": 15,
     "metadata": {},
     "output_type": "execute_result"
    }
   ],
   "source": [
    "os.path.isfile('sample.json')"
   ]
  },
  {
   "cell_type": "code",
   "execution_count": 56,
   "id": "7b4828c4-c71e-4083-a411-2fc0e4019b64",
   "metadata": {},
   "outputs": [
    {
     "ename": "FileExistsError",
     "evalue": "[Errno 17] File exists: 'imanyu'",
     "output_type": "error",
     "traceback": [
      "\u001b[0;31m---------------------------------------------------------------------------\u001b[0m",
      "\u001b[0;31mFileExistsError\u001b[0m                           Traceback (most recent call last)",
      "Cell \u001b[0;32mIn[56], line 1\u001b[0m\n\u001b[0;32m----> 1\u001b[0m \u001b[43mos\u001b[49m\u001b[38;5;241;43m.\u001b[39;49m\u001b[43mmkdir\u001b[49m\u001b[43m(\u001b[49m\u001b[38;5;124;43m'\u001b[39;49m\u001b[38;5;124;43mimanyu\u001b[39;49m\u001b[38;5;124;43m'\u001b[39;49m\u001b[43m)\u001b[49m\n",
      "\u001b[0;31mFileExistsError\u001b[0m: [Errno 17] File exists: 'imanyu'"
     ]
    }
   ],
   "source": [
    "os.mkdir('imanyu')"
   ]
  },
  {
   "cell_type": "code",
   "execution_count": 58,
   "id": "66a7b031-4593-4b59-86ac-ded31f1a5c1b",
   "metadata": {},
   "outputs": [],
   "source": [
    "os.remove('sample.txt')"
   ]
  },
  {
   "cell_type": "code",
   "execution_count": 61,
   "id": "8d7d2d81-0a6b-4037-9d63-d6a6f988acc3",
   "metadata": {},
   "outputs": [
    {
     "ename": "FileNotFoundError",
     "evalue": "[Errno 2] No such file or directory: 'imanyu' -> 'sachiyo'",
     "output_type": "error",
     "traceback": [
      "\u001b[0;31m---------------------------------------------------------------------------\u001b[0m",
      "\u001b[0;31mFileNotFoundError\u001b[0m                         Traceback (most recent call last)",
      "Cell \u001b[0;32mIn[61], line 1\u001b[0m\n\u001b[0;32m----> 1\u001b[0m \u001b[43mos\u001b[49m\u001b[38;5;241;43m.\u001b[39;49m\u001b[43mrename\u001b[49m\u001b[43m(\u001b[49m\u001b[38;5;124;43m'\u001b[39;49m\u001b[38;5;124;43mimanyu\u001b[39;49m\u001b[38;5;124;43m'\u001b[39;49m\u001b[43m,\u001b[49m\u001b[43m \u001b[49m\u001b[38;5;124;43m'\u001b[39;49m\u001b[38;5;124;43msachiyo\u001b[39;49m\u001b[38;5;124;43m'\u001b[39;49m\u001b[43m)\u001b[49m\n",
      "\u001b[0;31mFileNotFoundError\u001b[0m: [Errno 2] No such file or directory: 'imanyu' -> 'sachiyo'"
     ]
    }
   ],
   "source": [
    "os.rename('imanyu', 'sachiyo')"
   ]
  },
  {
   "cell_type": "code",
   "execution_count": 63,
   "id": "2f7cd7da-0f0a-486e-86d0-0a1acf283ee7",
   "metadata": {},
   "outputs": [
    {
     "data": {
      "text/plain": [
       "'/Library/Frameworks/Python.framework/Versions/3.10/bin:/usr/local/bin:/usr/bin:/bin:/usr/sbin:/sbin'"
      ]
     },
     "execution_count": 63,
     "metadata": {},
     "output_type": "execute_result"
    }
   ],
   "source": [
    "os.environ['PATH']"
   ]
  },
  {
   "cell_type": "code",
   "execution_count": 5,
   "id": "e793a78f-7fae-42be-b6f1-3d7654fee143",
   "metadata": {},
   "outputs": [
    {
     "name": "stdout",
     "output_type": "stream",
     "text": [
      "\u001b[34m.\u001b[m\u001b[m\n",
      "\u001b[34m..\u001b[m\u001b[m\n",
      "\u001b[34m.ipynb_checkpoints\u001b[m\u001b[m\n",
      "\u001b[34mMatchCase\u001b[m\u001b[m\n",
      "Matplotlib.ipynb\n",
      "NumPy.ipynb\n",
      "export_csv\n",
      "iris.csv\n",
      "lambda.ipynb\n",
      "people.csv\n",
      "question1_20.ipynb\n",
      "question21_40.ipynb\n",
      "question41_60.ipynb\n",
      "question61_80.ipynb\n",
      "question81_100.ipynb\n",
      "\u001b[34msachiyo\u001b[m\u001b[m\n",
      "sample.json\n",
      "sample.png\n",
      "sample.txt\n",
      "test_docPython.ipynb\n",
      "weather.csv\n"
     ]
    },
    {
     "data": {
      "text/plain": [
       "0"
      ]
     },
     "execution_count": 5,
     "metadata": {},
     "output_type": "execute_result"
    }
   ],
   "source": [
    "os.system('ls -a')"
   ]
  },
  {
   "cell_type": "code",
   "execution_count": 29,
   "id": "116087ab-330f-41e6-bc89-6ae88e4b9107",
   "metadata": {},
   "outputs": [
    {
     "name": "stdout",
     "output_type": "stream",
     "text": [
      "\u001b[34m.\u001b[m\u001b[m\n",
      "\u001b[34m..\u001b[m\u001b[m\n",
      "\u001b[34m.ipynb_checkpoints\u001b[m\u001b[m\n",
      "\u001b[34mMatchCase\u001b[m\u001b[m\n",
      "Matplotlib.ipynb\n",
      "iris.csv\n",
      "people.csv\n",
      "question1_20.ipynb\n",
      "question21_40.ipynb\n",
      "question41_60.ipynb\n",
      "question61_80.ipynb\n",
      "question81_100.ipynb\n",
      "\u001b[34msachiyo\u001b[m\u001b[m\n",
      "sample.json\n",
      "sample.txt\n",
      "test_docPython.ipynb\n",
      "weather.csv\n",
      "\n"
     ]
    }
   ],
   "source": [
    "print(os.popen('ls -a').read())"
   ]
  },
  {
   "cell_type": "code",
   "execution_count": 67,
   "id": "a6a8a457-8d90-46d4-a17e-9bf5b184e0c1",
   "metadata": {},
   "outputs": [
    {
     "name": "stdout",
     "output_type": "stream",
     "text": [
      "\u001b[34m.\u001b[m\u001b[m                   \u001b[34mMatchCase\u001b[m\u001b[m           question41_60.ipynb\n",
      "\u001b[34m..\u001b[m\u001b[m                  question1_20.ipynb  \u001b[34msachiyo\u001b[m\u001b[m\n",
      "\u001b[34m.ipynb_checkpoints\u001b[m\u001b[m  question21_40.ipynb sample.json\n"
     ]
    }
   ],
   "source": [
    "!ls -a"
   ]
  },
  {
   "cell_type": "code",
   "execution_count": 31,
   "id": "fdc4491b-7e6b-4b35-92e8-52e976636be6",
   "metadata": {},
   "outputs": [],
   "source": [
    "import numpy as np"
   ]
  },
  {
   "cell_type": "code",
   "execution_count": 70,
   "id": "1391b730-aa16-4eb5-aaf9-c497b78d5cf3",
   "metadata": {},
   "outputs": [],
   "source": [
    "a = np.array([1, 2, 3, 4])"
   ]
  },
  {
   "cell_type": "code",
   "execution_count": 71,
   "id": "bcb2501f-1ce1-495c-bc5f-b4da48fbf14b",
   "metadata": {},
   "outputs": [
    {
     "data": {
      "text/plain": [
       "array([1, 2, 3, 4])"
      ]
     },
     "execution_count": 71,
     "metadata": {},
     "output_type": "execute_result"
    }
   ],
   "source": [
    "a"
   ]
  },
  {
   "cell_type": "code",
   "execution_count": 72,
   "id": "1edd0624-de42-4620-a937-769780fc1bd4",
   "metadata": {},
   "outputs": [
    {
     "data": {
      "text/plain": [
       "(4,)"
      ]
     },
     "execution_count": 72,
     "metadata": {},
     "output_type": "execute_result"
    }
   ],
   "source": [
    "a.shape"
   ]
  },
  {
   "cell_type": "code",
   "execution_count": 32,
   "id": "b3284d8b-0e80-4de7-b106-e2d4752027d4",
   "metadata": {},
   "outputs": [],
   "source": [
    "b = np.array([[1, 2],\n",
    "        [3, 4]])"
   ]
  },
  {
   "cell_type": "code",
   "execution_count": 78,
   "id": "3b81a37b-7281-42fa-a9f9-fedaef36c188",
   "metadata": {},
   "outputs": [
    {
     "data": {
      "text/plain": [
       "array([[1, 2],\n",
       "       [3, 4]])"
      ]
     },
     "execution_count": 78,
     "metadata": {},
     "output_type": "execute_result"
    }
   ],
   "source": [
    "b"
   ]
  },
  {
   "cell_type": "code",
   "execution_count": 79,
   "id": "aff34132-3fc9-44ea-adb5-4809ee5cbba8",
   "metadata": {},
   "outputs": [
    {
     "data": {
      "text/plain": [
       "(2, 2)"
      ]
     },
     "execution_count": 79,
     "metadata": {},
     "output_type": "execute_result"
    }
   ],
   "source": [
    "b.shape"
   ]
  },
  {
   "cell_type": "code",
   "execution_count": 81,
   "id": "46b8f7f5-9f1c-4d75-9a79-794e8b49b2b1",
   "metadata": {},
   "outputs": [
    {
     "data": {
      "text/plain": [
       "array([0., 0., 0., 0., 0., 0., 0., 0.])"
      ]
     },
     "execution_count": 81,
     "metadata": {},
     "output_type": "execute_result"
    }
   ],
   "source": [
    "c = np.zeros(8)\n",
    "c"
   ]
  },
  {
   "cell_type": "code",
   "execution_count": 82,
   "id": "b12afe9e-8387-4af5-a3a8-c78204b6868c",
   "metadata": {},
   "outputs": [
    {
     "data": {
      "text/plain": [
       "(8,)"
      ]
     },
     "execution_count": 82,
     "metadata": {},
     "output_type": "execute_result"
    }
   ],
   "source": [
    "c.shape"
   ]
  },
  {
   "cell_type": "code",
   "execution_count": 83,
   "id": "d6dc4489-fdb1-484e-91e3-8afe6968685d",
   "metadata": {},
   "outputs": [
    {
     "data": {
      "text/plain": [
       "array([[0., 0., 0.],\n",
       "       [0., 0., 0.],\n",
       "       [0., 0., 0.],\n",
       "       [0., 0., 0.]])"
      ]
     },
     "execution_count": 83,
     "metadata": {},
     "output_type": "execute_result"
    }
   ],
   "source": [
    "d = np.zeros((4, 3))\n",
    "d"
   ]
  },
  {
   "cell_type": "code",
   "execution_count": 84,
   "id": "94de1773-36cd-4f82-9817-e9024edd6ffe",
   "metadata": {},
   "outputs": [
    {
     "data": {
      "text/plain": [
       "(4, 3)"
      ]
     },
     "execution_count": 84,
     "metadata": {},
     "output_type": "execute_result"
    }
   ],
   "source": [
    "d.shape"
   ]
  },
  {
   "cell_type": "code",
   "execution_count": 85,
   "id": "b0d3697c-21bf-45e2-8888-62dbfe6031a6",
   "metadata": {},
   "outputs": [
    {
     "data": {
      "text/plain": [
       "array([[1., 0., 0., 0., 0.],\n",
       "       [0., 1., 0., 0., 0.],\n",
       "       [0., 0., 1., 0., 0.],\n",
       "       [0., 0., 0., 1., 0.],\n",
       "       [0., 0., 0., 0., 1.]])"
      ]
     },
     "execution_count": 85,
     "metadata": {},
     "output_type": "execute_result"
    }
   ],
   "source": [
    "np.eye(5)"
   ]
  }
 ],
 "metadata": {
  "kernelspec": {
   "display_name": "Python 3 (ipykernel)",
   "language": "python",
   "name": "python3"
  },
  "language_info": {
   "codemirror_mode": {
    "name": "ipython",
    "version": 3
   },
   "file_extension": ".py",
   "mimetype": "text/x-python",
   "name": "python",
   "nbconvert_exporter": "python",
   "pygments_lexer": "ipython3",
   "version": "3.11.6"
  }
 },
 "nbformat": 4,
 "nbformat_minor": 5
}
