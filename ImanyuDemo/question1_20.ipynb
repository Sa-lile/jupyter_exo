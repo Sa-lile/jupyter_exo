{
 "cells": [
  {
   "cell_type": "code",
   "execution_count": 3,
   "id": "af26b861-f2cb-48a2-b0fa-bde9641e180f",
   "metadata": {},
   "outputs": [
    {
     "name": "stdout",
     "output_type": "stream",
     "text": [
      "attrs==23.2.0\n",
      "certifi==2023.11.17\n",
      "charset-normalizer==3.3.2\n",
      "distlib==0.3.8\n",
      "exceptiongroup==1.2.0\n",
      "filelock==3.13.1\n",
      "h11==0.14.0\n",
      "idna==3.6\n",
      "numpy==1.26.2\n",
      "outcome==1.3.0.post0\n",
      "packaging==23.2\n",
      "pandas==2.1.4\n",
      "Pillow==10.1.0\n",
      "pipenv==2023.11.15\n",
      "platformdirs==4.1.0\n",
      "pyarrow==9.0.0\n",
      "PySocks==1.7.1\n",
      "python-dateutil==2.8.2\n",
      "python-dotenv==1.0.0\n",
      "pytz==2023.3.post1\n",
      "requests==2.31.0\n",
      "selenium==4.16.0\n",
      "six==1.16.0\n",
      "sniffio==1.3.0\n",
      "sortedcontainers==2.4.0\n",
      "trio==0.24.0\n",
      "trio-websocket==0.11.1\n",
      "tzdata==2023.3\n",
      "urllib3==2.1.0\n",
      "virtualenv==20.25.0\n",
      "watchdog==3.0.0\n",
      "webdriver-manager==4.0.1\n",
      "wsproto==1.2.0\n"
     ]
    }
   ],
   "source": [
    "!pip3 freeze"
   ]
  },
  {
   "cell_type": "code",
   "execution_count": null,
   "id": "2bb1717e-0609-4c67-998c-810af6974eb1",
   "metadata": {},
   "outputs": [],
   "source": []
  },
  {
   "cell_type": "code",
   "execution_count": 3,
   "id": "166fc0ff-b23b-40ac-b774-f60501746d62",
   "metadata": {},
   "outputs": [
    {
     "name": "stdout",
     "output_type": "stream",
     "text": [
      "certifi==2023.11.17\n",
      "distlib==0.3.8\n",
      "filelock==3.13.1\n",
      "numpy==1.26.2\n",
      "pandas==2.1.4\n",
      "Pillow==10.1.0\n",
      "pipenv==2023.11.15\n",
      "platformdirs==4.1.0\n",
      "pyarrow==9.0.0\n",
      "python-dateutil==2.8.2\n",
      "pytz==2023.3.post1\n",
      "six==1.16.0\n",
      "tzdata==2023.3\n",
      "virtualenv==20.25.0\n",
      "watchdog==3.0.0\n"
     ]
    }
   ],
   "source": [
    "! pip3 freeze"
   ]
  },
  {
   "cell_type": "code",
   "execution_count": 6,
   "id": "54eb334a-da8e-46ba-902f-9782f3b5e507",
   "metadata": {},
   "outputs": [
    {
     "data": {
      "text/plain": [
       "'My nameSachiyo is , I borned inTokyo '"
      ]
     },
     "execution_count": 6,
     "metadata": {},
     "output_type": "execute_result"
    }
   ],
   "source": [
    "name = 'Sachiyo'\n",
    "birthplace = 'Tokyo'\n",
    "\n",
    "'My name{} is , I borned in{} '.format(name, birthplace)"
   ]
  },
  {
   "cell_type": "code",
   "execution_count": 8,
   "id": "dda78188-3c8a-4094-8d0f-5bee2254e535",
   "metadata": {},
   "outputs": [
    {
     "data": {
      "text/plain": [
       "'My nameSachiyo is , I borned inTokyo '"
      ]
     },
     "execution_count": 8,
     "metadata": {},
     "output_type": "execute_result"
    }
   ],
   "source": [
    "f'My name{name} is , I borned in{birthplace} '"
   ]
  },
  {
   "cell_type": "code",
   "execution_count": 11,
   "id": "0505dc96-76e7-4919-8099-a92077b8375a",
   "metadata": {},
   "outputs": [
    {
     "name": "stdout",
     "output_type": "stream",
     "text": [
      "My nameSachiyo is , \n",
      "I borned inTokyo \n"
     ]
    }
   ],
   "source": [
    "print('My nameSachiyo is , \\nI borned inTokyo ')"
   ]
  },
  {
   "cell_type": "code",
   "execution_count": 19,
   "id": "845f6329-fb0f-4647-aff3-d7112a729e2a",
   "metadata": {},
   "outputs": [
    {
     "name": "stdout",
     "output_type": "stream",
     "text": [
      "10進数=16, 16進数=10,　10新浮動小数点=16.000000\n"
     ]
    }
   ],
   "source": [
    "print(\"10進数=%d, 16進数=%x,　10新浮動小数点=%f\" % (16, 16, 16))"
   ]
  },
  {
   "cell_type": "code",
   "execution_count": 20,
   "id": "b1778cfb-e1e2-49ca-ab4c-18dffdf835f2",
   "metadata": {},
   "outputs": [
    {
     "data": {
      "text/plain": [
       "'HELLO'"
      ]
     },
     "execution_count": 20,
     "metadata": {},
     "output_type": "execute_result"
    }
   ],
   "source": [
    "'hello'.upper()"
   ]
  },
  {
   "cell_type": "code",
   "execution_count": 21,
   "id": "bed0591c-02ad-43e1-bce7-46875b5aa1e3",
   "metadata": {},
   "outputs": [
    {
     "data": {
      "text/plain": [
       "'hello'"
      ]
     },
     "execution_count": 21,
     "metadata": {},
     "output_type": "execute_result"
    }
   ],
   "source": [
    "'HELLO'.lower()"
   ]
  },
  {
   "cell_type": "code",
   "execution_count": 28,
   "id": "f7f13fb3-2754-4fa7-85f1-28ec6be9a912",
   "metadata": {},
   "outputs": [
    {
     "name": "stdout",
     "output_type": "stream",
     "text": [
      "Hello, \n",
      "I am AI robot\n"
     ]
    }
   ],
   "source": [
    "message = 'Hello, \\nI am AI robot'\n",
    "print(message)"
   ]
  },
  {
   "cell_type": "code",
   "execution_count": 29,
   "id": "5cd0bc22-fcfc-4aeb-baf3-c2344b9391db",
   "metadata": {},
   "outputs": [
    {
     "data": {
      "text/plain": [
       "['Hello, ', 'I am AI robot']"
      ]
     },
     "execution_count": 29,
     "metadata": {},
     "output_type": "execute_result"
    }
   ],
   "source": [
    "message.split('\\n')"
   ]
  },
  {
   "cell_type": "code",
   "execution_count": 34,
   "id": "64dd3c60-e3b0-48ce-8121-f2b115b5ea57",
   "metadata": {},
   "outputs": [
    {
     "name": "stdout",
     "output_type": "stream",
     "text": [
      "['Hello, ', 'I am AI robot']\n"
     ]
    }
   ],
   "source": [
    "message = message.split('\\n')\n",
    "print(message)"
   ]
  },
  {
   "cell_type": "code",
   "execution_count": 36,
   "id": "69885dd6-8f4c-4d04-aef4-a8a1786dd89e",
   "metadata": {},
   "outputs": [
    {
     "data": {
      "text/plain": [
       "'Hello, ○○I am AI robot'"
      ]
     },
     "execution_count": 36,
     "metadata": {},
     "output_type": "execute_result"
    }
   ],
   "source": [
    "'○○'.join(message)"
   ]
  },
  {
   "cell_type": "code",
   "execution_count": 39,
   "id": "c220bfde-f86d-49a3-b51c-fc974b368541",
   "metadata": {},
   "outputs": [
    {
     "name": "stdout",
     "output_type": "stream",
     "text": [
      "I come from Japan\n"
     ]
    }
   ],
   "source": [
    "message = ' I come from Japan '\n",
    "print(message.strip())"
   ]
  },
  {
   "cell_type": "code",
   "execution_count": 1,
   "id": "87bd0f10-c8ea-4702-b550-5801af60b225",
   "metadata": {},
   "outputs": [
    {
     "data": {
      "text/plain": [
       "' I come from Saitama '"
      ]
     },
     "execution_count": 1,
     "metadata": {},
     "output_type": "execute_result"
    }
   ],
   "source": [
    "message = ' I come from Japan '\n",
    "message.replace('Japan', 'Saitama')"
   ]
  },
  {
   "cell_type": "code",
   "execution_count": 2,
   "id": "d736f811-e51d-45b1-979e-f657059bd43d",
   "metadata": {},
   "outputs": [
    {
     "data": {
      "text/plain": [
       "3"
      ]
     },
     "execution_count": 2,
     "metadata": {},
     "output_type": "execute_result"
    }
   ],
   "source": [
    "message = ' I come from Japan '\n",
    "message.find('come')"
   ]
  },
  {
   "cell_type": "code",
   "execution_count": 44,
   "id": "e2fd7223-022e-4cf1-abf6-ede861a80b05",
   "metadata": {},
   "outputs": [
    {
     "data": {
      "text/plain": [
       "'1'"
      ]
     },
     "execution_count": 44,
     "metadata": {},
     "output_type": "execute_result"
    }
   ],
   "source": [
    "x = 1\n",
    "str(x)"
   ]
  },
  {
   "cell_type": "code",
   "execution_count": 49,
   "id": "f043529d-946b-4704-b908-4f30c2503944",
   "metadata": {},
   "outputs": [],
   "source": [
    "a, b = 'sba', 'gasba'"
   ]
  },
  {
   "cell_type": "code",
   "execution_count": 51,
   "id": "7b76a0d8-2e83-47b5-8a01-81c8306ae462",
   "metadata": {},
   "outputs": [
    {
     "data": {
      "text/plain": [
       "True"
      ]
     },
     "execution_count": 51,
     "metadata": {},
     "output_type": "execute_result"
    }
   ],
   "source": [
    "a in b"
   ]
  },
  {
   "cell_type": "code",
   "execution_count": 54,
   "id": "37f488c3-aecd-4dcf-bb07-823b5db6e345",
   "metadata": {},
   "outputs": [],
   "source": [
    "a, b = 'xdh', 'orweit'"
   ]
  },
  {
   "cell_type": "code",
   "execution_count": 55,
   "id": "f72a00c7-0391-4182-a649-08f01e4e16a4",
   "metadata": {},
   "outputs": [
    {
     "data": {
      "text/plain": [
       "False"
      ]
     },
     "execution_count": 55,
     "metadata": {},
     "output_type": "execute_result"
    }
   ],
   "source": [
    "a in b"
   ]
  },
  {
   "cell_type": "code",
   "execution_count": 3,
   "id": "5aeaebad-c641-44df-81eb-d3a38588fc84",
   "metadata": {},
   "outputs": [],
   "source": [
    "numbers = [0, 3, 8, -4, 9, 1]"
   ]
  },
  {
   "cell_type": "code",
   "execution_count": 4,
   "id": "8146821e-adc6-477f-8476-ec92b98c461d",
   "metadata": {},
   "outputs": [
    {
     "data": {
      "text/plain": [
       "[0, 3, 8, -4, 9, 1]"
      ]
     },
     "execution_count": 4,
     "metadata": {},
     "output_type": "execute_result"
    }
   ],
   "source": [
    "numbers[:]"
   ]
  },
  {
   "cell_type": "code",
   "execution_count": 5,
   "id": "23d33892-48d4-4345-94fc-647eec865003",
   "metadata": {},
   "outputs": [
    {
     "data": {
      "text/plain": [
       "3"
      ]
     },
     "execution_count": 5,
     "metadata": {},
     "output_type": "execute_result"
    }
   ],
   "source": [
    "numbers[1]"
   ]
  },
  {
   "cell_type": "code",
   "execution_count": 6,
   "id": "2c1573b5-ef4d-4a69-be83-14e59f085299",
   "metadata": {},
   "outputs": [
    {
     "data": {
      "text/plain": [
       "1"
      ]
     },
     "execution_count": 6,
     "metadata": {},
     "output_type": "execute_result"
    }
   ],
   "source": [
    "numbers[-1]"
   ]
  },
  {
   "cell_type": "code",
   "execution_count": 7,
   "id": "9c983fe3-78db-4271-9527-dc58ecb59e8a",
   "metadata": {},
   "outputs": [],
   "source": [
    "numbers.append(2)"
   ]
  },
  {
   "cell_type": "code",
   "execution_count": 8,
   "id": "815acf91-c41f-4d65-8dc5-326486938c2a",
   "metadata": {},
   "outputs": [
    {
     "data": {
      "text/plain": [
       "[0, 3, 8, -4, 9, 1, 2]"
      ]
     },
     "execution_count": 8,
     "metadata": {},
     "output_type": "execute_result"
    }
   ],
   "source": [
    "numbers"
   ]
  },
  {
   "cell_type": "code",
   "execution_count": 9,
   "id": "3e5bc4b5-3475-4298-a9ab-05f255d42ecd",
   "metadata": {},
   "outputs": [],
   "source": [
    "numbers.insert(0, 5)"
   ]
  },
  {
   "cell_type": "code",
   "execution_count": 10,
   "id": "807cf5c2-a2b3-4033-ab05-12e2a2e94442",
   "metadata": {},
   "outputs": [
    {
     "data": {
      "text/plain": [
       "[5, 0, 3, 8, -4, 9, 1, 2]"
      ]
     },
     "execution_count": 10,
     "metadata": {},
     "output_type": "execute_result"
    }
   ],
   "source": [
    "numbers"
   ]
  },
  {
   "cell_type": "code",
   "execution_count": 13,
   "id": "c90ff924-c255-4000-92fa-00e6975a0565",
   "metadata": {},
   "outputs": [],
   "source": [
    "numbers.insert(-1, 3)"
   ]
  },
  {
   "cell_type": "code",
   "execution_count": 14,
   "id": "aa99e6f2-796c-49cd-9b26-6663a4212cf0",
   "metadata": {},
   "outputs": [
    {
     "data": {
      "text/plain": [
       "[5, 0, 3, 8, -4, 9, 1, 5, 3, 2]"
      ]
     },
     "execution_count": 14,
     "metadata": {},
     "output_type": "execute_result"
    }
   ],
   "source": [
    "numbers"
   ]
  },
  {
   "cell_type": "code",
   "execution_count": 17,
   "id": "3cca8bf3-b8cb-4504-93f8-4673dd16cda7",
   "metadata": {},
   "outputs": [],
   "source": [
    "numbers.remove(3)"
   ]
  },
  {
   "cell_type": "code",
   "execution_count": 18,
   "id": "15fa20dc-3960-4d7b-976d-ad67843d03c9",
   "metadata": {},
   "outputs": [
    {
     "data": {
      "text/plain": [
       "[0, 8, -4, 9, 1, 5, 3, 2]"
      ]
     },
     "execution_count": 18,
     "metadata": {},
     "output_type": "execute_result"
    }
   ],
   "source": [
    "numbers"
   ]
  },
  {
   "cell_type": "code",
   "execution_count": 19,
   "id": "24fc4d2a-2466-47c8-9cfd-9f45e283fd88",
   "metadata": {},
   "outputs": [
    {
     "data": {
      "text/plain": [
       "5"
      ]
     },
     "execution_count": 19,
     "metadata": {},
     "output_type": "execute_result"
    }
   ],
   "source": [
    "numbers.pop(-3)"
   ]
  },
  {
   "cell_type": "code",
   "execution_count": 20,
   "id": "1b6933d2-1e07-4091-a287-bcafe255ada1",
   "metadata": {},
   "outputs": [
    {
     "data": {
      "text/plain": [
       "[0, 8, -4, 9, 1, 3, 2]"
      ]
     },
     "execution_count": 20,
     "metadata": {},
     "output_type": "execute_result"
    }
   ],
   "source": [
    "numbers"
   ]
  },
  {
   "cell_type": "code",
   "execution_count": 21,
   "id": "df521b07-c931-484a-9d2a-32f1e7415bd4",
   "metadata": {},
   "outputs": [],
   "source": [
    "def isEven(number):\n",
    "    if number % 2 == 0:\n",
    "        print(f'This number, {number} is even')\n",
    "        return True\n",
    "    else:\n",
    "        print(f'This number, {number} is odd')\n",
    "        return False"
   ]
  },
  {
   "cell_type": "code",
   "execution_count": 22,
   "id": "b637cf5e-0468-40ef-8742-2fffb6a4b0d8",
   "metadata": {},
   "outputs": [
    {
     "name": "stdout",
     "output_type": "stream",
     "text": [
      "This number, 0 is even\n",
      "This number, 8 is even\n",
      "This number, -4 is even\n",
      "This number, 9 is odd\n",
      "This number, 1 is odd\n",
      "This number, 3 is odd\n",
      "This number, 2 is even\n"
     ]
    },
    {
     "data": {
      "text/plain": [
       "[0, 8, -4, 2]"
      ]
     },
     "execution_count": 22,
     "metadata": {},
     "output_type": "execute_result"
    }
   ],
   "source": [
    "list(filter(isEven, numbers))"
   ]
  },
  {
   "cell_type": "code",
   "execution_count": 23,
   "id": "9bedd058-1d37-4ba4-bb39-899d25687ff3",
   "metadata": {},
   "outputs": [
    {
     "data": {
      "text/plain": [
       "1"
      ]
     },
     "execution_count": 23,
     "metadata": {},
     "output_type": "execute_result"
    }
   ],
   "source": [
    "numbers.index(8)"
   ]
  },
  {
   "cell_type": "code",
   "execution_count": 24,
   "id": "7b7dca0a-ce80-4045-bf3f-bd87e813567e",
   "metadata": {},
   "outputs": [
    {
     "data": {
      "text/plain": [
       "[-4, 0, 1, 2, 3, 8, 9]"
      ]
     },
     "execution_count": 24,
     "metadata": {},
     "output_type": "execute_result"
    }
   ],
   "source": [
    "numbers.sort()\n",
    "numbers"
   ]
  },
  {
   "cell_type": "code",
   "execution_count": 25,
   "id": "68e5110d-8c43-41e9-b027-83fdc253dd59",
   "metadata": {},
   "outputs": [
    {
     "data": {
      "text/plain": [
       "[9, 8, 3, 2, 1, 0, -4]"
      ]
     },
     "execution_count": 25,
     "metadata": {},
     "output_type": "execute_result"
    }
   ],
   "source": [
    "numbers.sort(reverse=True)\n",
    "numbers"
   ]
  },
  {
   "cell_type": "code",
   "execution_count": 26,
   "id": "20dbb1c2-d5eb-43ac-80a4-a574bdecc978",
   "metadata": {},
   "outputs": [
    {
     "data": {
      "text/plain": [
       "{'A': 'Sachiyo', 'B': 'SABLE', 'C': 'Homme', 'D': 'Tokyo', 'E': 'Trip'}"
      ]
     },
     "execution_count": 26,
     "metadata": {},
     "output_type": "execute_result"
    }
   ],
   "source": [
    "dictionary = {\n",
    "    'A': 'Sachiyo',\n",
    "    'B': 'SABLE',\n",
    "    'C': 'Homme',\n",
    "    'D': 'Tokyo',\n",
    "    'E': 'Trip',\n",
    "}\n",
    "dictionary"
   ]
  },
  {
   "cell_type": "code",
   "execution_count": 27,
   "id": "ddfd6800-d055-413c-b6e2-fc886f60991e",
   "metadata": {},
   "outputs": [
    {
     "data": {
      "text/plain": [
       "'Sachiyo'"
      ]
     },
     "execution_count": 27,
     "metadata": {},
     "output_type": "execute_result"
    }
   ],
   "source": [
    "dictionary.pop('A')"
   ]
  },
  {
   "cell_type": "code",
   "execution_count": 98,
   "id": "99e88df7-e5e8-4087-b6a2-6199216ef031",
   "metadata": {},
   "outputs": [],
   "source": [
    "dictionary.clear()"
   ]
  },
  {
   "cell_type": "code",
   "execution_count": 99,
   "id": "ce97093f-03ce-4fa2-987f-b4a3ffb516e5",
   "metadata": {},
   "outputs": [
    {
     "data": {
      "text/plain": [
       "{}"
      ]
     },
     "execution_count": 99,
     "metadata": {},
     "output_type": "execute_result"
    }
   ],
   "source": [
    "dictionary"
   ]
  },
  {
   "cell_type": "code",
   "execution_count": 4,
   "id": "3502ea25-9fe3-4df7-b486-68e2c38026e1",
   "metadata": {},
   "outputs": [
    {
     "data": {
      "text/plain": [
       "'My name is Kikuchi,\\n My birthplace is Saitama'"
      ]
     },
     "execution_count": 4,
     "metadata": {},
     "output_type": "execute_result"
    }
   ],
   "source": [
    "name = 'Kikuchi'\n",
    "birthplace = 'Saitama'\n",
    "\n",
    "str = (f'My name is {name},\\n My birthplace is {birthplace}')\n",
    "str"
   ]
  },
  {
   "cell_type": "code",
   "execution_count": 7,
   "id": "8cc8ef5c-aad4-49b5-ab0f-23dd4284d15a",
   "metadata": {},
   "outputs": [
    {
     "name": "stdout",
     "output_type": "stream",
     "text": [
      "My name is Kikuchi,\n",
      " My birthplace is Saitama\n"
     ]
    }
   ],
   "source": [
    "print ('My name is Kikuchi,\\n My birthplace is Saitama')"
   ]
  },
  {
   "cell_type": "code",
   "execution_count": 30,
   "id": "1c789c4b-971e-4483-843e-f40b442bc87d",
   "metadata": {},
   "outputs": [
    {
     "data": {
      "text/plain": [
       "10"
      ]
     },
     "execution_count": 30,
     "metadata": {},
     "output_type": "execute_result"
    }
   ],
   "source": [
    "msg = 'hello, my name is sachiyo'\n",
    "msg.find('name')"
   ]
  },
  {
   "cell_type": "code",
   "execution_count": 35,
   "id": "650b5afc-a7e6-431d-8cb2-b2fdcbed0b94",
   "metadata": {},
   "outputs": [],
   "source": [
    "numbers = [0, 3, 8, -4, 9, 1]"
   ]
  },
  {
   "cell_type": "code",
   "execution_count": 56,
   "id": "ab7cb7ab-7288-4394-a755-1d1c53fdf339",
   "metadata": {},
   "outputs": [],
   "source": [
    "numbers.sort(reverse=True)"
   ]
  },
  {
   "cell_type": "code",
   "execution_count": 57,
   "id": "25a56739-32ff-4ac7-9cef-71c4d2c042cd",
   "metadata": {},
   "outputs": [
    {
     "data": {
      "text/plain": [
       "[8, 1, 0, -4]"
      ]
     },
     "execution_count": 57,
     "metadata": {},
     "output_type": "execute_result"
    }
   ],
   "source": [
    "numbers"
   ]
  }
 ],
 "metadata": {
  "kernelspec": {
   "display_name": "Python 3 (ipykernel)",
   "language": "python",
   "name": "python3"
  },
  "language_info": {
   "codemirror_mode": {
    "name": "ipython",
    "version": 3
   },
   "file_extension": ".py",
   "mimetype": "text/x-python",
   "name": "python",
   "nbconvert_exporter": "python",
   "pygments_lexer": "ipython3",
   "version": "3.10.0"
  }
 },
 "nbformat": 4,
 "nbformat_minor": 5
}
