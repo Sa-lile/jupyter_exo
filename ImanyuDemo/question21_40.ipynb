{
 "cells": [
  {
   "cell_type": "code",
   "execution_count": 1,
   "id": "3e987469-d906-4d60-a185-ce34f92d0490",
   "metadata": {},
   "outputs": [
    {
     "data": {
      "text/plain": [
       "{'A': 'Sable', 'B': 'Sachiyo', 'C': 'femme', 'D': 'Saitama', 'E': 'Trip'}"
      ]
     },
     "execution_count": 1,
     "metadata": {},
     "output_type": "execute_result"
    }
   ],
   "source": [
    "dictionary = {\n",
    "    'A':'Sable',\n",
    "    'B':'Sachiyo',\n",
    "    'C':'femme',\n",
    "    'D':'Saitama',\n",
    "    'E':'Trip',\n",
    "}\n",
    "dictionary"
   ]
  },
  {
   "cell_type": "code",
   "execution_count": 2,
   "id": "f7b8d0bb-31d2-4ff8-8552-eca419834c06",
   "metadata": {},
   "outputs": [
    {
     "data": {
      "text/plain": [
       "dict_keys(['A', 'B', 'C', 'D', 'E'])"
      ]
     },
     "execution_count": 2,
     "metadata": {},
     "output_type": "execute_result"
    }
   ],
   "source": [
    "dictionary.keys()"
   ]
  },
  {
   "cell_type": "code",
   "execution_count": 3,
   "id": "4e98caa1-1d3c-42ac-bcb3-701ba529a27d",
   "metadata": {},
   "outputs": [
    {
     "data": {
      "text/plain": [
       "dict_values(['Sable', 'Sachiyo', 'femme', 'Saitama', 'Trip'])"
      ]
     },
     "execution_count": 3,
     "metadata": {},
     "output_type": "execute_result"
    }
   ],
   "source": [
    "dictionary.values()"
   ]
  },
  {
   "cell_type": "code",
   "execution_count": 6,
   "id": "d64f5765-7554-4173-a799-21c309ede5a5",
   "metadata": {},
   "outputs": [
    {
     "data": {
      "text/plain": [
       "True"
      ]
     },
     "execution_count": 6,
     "metadata": {},
     "output_type": "execute_result"
    }
   ],
   "source": [
    "'femme' in dictionary.values()"
   ]
  },
  {
   "cell_type": "code",
   "execution_count": 4,
   "id": "414c47fd-b8b7-4bb4-af67-8dab0366536e",
   "metadata": {},
   "outputs": [
    {
     "name": "stdout",
     "output_type": "stream",
     "text": [
      "The key is A, The value is Sable\n",
      "The key is B, The value is Sachiyo\n",
      "The key is C, The value is femme\n",
      "The key is D, The value is Saitama\n",
      "The key is E, The value is Trip\n"
     ]
    }
   ],
   "source": [
    "for key, value in dictionary.items():\n",
    "    print(f'The key is {key}, The value is {value}')\n"
   ]
  },
  {
   "cell_type": "code",
   "execution_count": 3,
   "id": "e3cb2c3e-b54d-4e85-baf9-6a9553094fe2",
   "metadata": {},
   "outputs": [
    {
     "data": {
      "text/plain": [
       "'Sachiyo'"
      ]
     },
     "execution_count": 3,
     "metadata": {},
     "output_type": "execute_result"
    }
   ],
   "source": [
    "dictionary.get('B')"
   ]
  },
  {
   "cell_type": "code",
   "execution_count": 23,
   "id": "758162f1-b308-4120-bc15-603ac9c2727e",
   "metadata": {},
   "outputs": [
    {
     "data": {
      "text/plain": [
       "'Sable'"
      ]
     },
     "execution_count": 23,
     "metadata": {},
     "output_type": "execute_result"
    }
   ],
   "source": [
    "dictionary.get('A')"
   ]
  },
  {
   "cell_type": "code",
   "execution_count": 5,
   "id": "1fcf8fe4-7db1-4947-8d0a-2c192f151c14",
   "metadata": {},
   "outputs": [
    {
     "name": "stdout",
     "output_type": "stream",
     "text": [
      "postitive\n"
     ]
    }
   ],
   "source": [
    "num = 5\n",
    "\n",
    "if num > 0:\n",
    "    print('postitive')\n",
    "elif num == 0:\n",
    "    print('0')\n",
    "else :\n",
    "    print('negative')\n",
    "    "
   ]
  },
  {
   "cell_type": "code",
   "execution_count": 6,
   "id": "3de9649e-5391-4566-9fab-d4238aee6571",
   "metadata": {},
   "outputs": [
    {
     "name": "stdout",
     "output_type": "stream",
     "text": [
      "eqal\n"
     ]
    }
   ],
   "source": [
    "a = 3\n",
    "\n",
    "if 0 <+ a < 10 and a % 2 == 0:\n",
    "    print('postive')\n",
    "elif a < 0 and a % 2 == 1:\n",
    "    print('negative')\n",
    "else:\n",
    "    print('eqal')"
   ]
  },
  {
   "cell_type": "code",
   "execution_count": 35,
   "id": "433aefe9-5843-4885-bcd3-f5c2ba22f238",
   "metadata": {},
   "outputs": [],
   "source": [
    "names = ['John', 'Kevin', 'Louis']"
   ]
  },
  {
   "cell_type": "code",
   "execution_count": 36,
   "id": "95a2de60-92ca-4d57-855e-37e2268cb5f8",
   "metadata": {},
   "outputs": [
    {
     "name": "stdout",
     "output_type": "stream",
     "text": [
      "John\n",
      "Kevin\n",
      "Louis\n"
     ]
    }
   ],
   "source": [
    "for name in names:\n",
    "   print(name)"
   ]
  },
  {
   "cell_type": "code",
   "execution_count": 40,
   "id": "3cc84d84-950c-48b0-8e94-0f2e251922b0",
   "metadata": {},
   "outputs": [
    {
     "name": "stdout",
     "output_type": "stream",
     "text": [
      "10\n",
      "11\n",
      "12\n",
      "13\n",
      "14\n",
      "15\n",
      "16\n",
      "17\n",
      "18\n",
      "19\n"
     ]
    }
   ],
   "source": [
    "for i in range(10, 20):\n",
    "    print(i)"
   ]
  },
  {
   "cell_type": "code",
   "execution_count": 42,
   "id": "8f69b00c-5bca-41cf-9e62-1ca1ae444fbb",
   "metadata": {},
   "outputs": [
    {
     "name": "stdout",
     "output_type": "stream",
     "text": [
      "0\n",
      "1\n",
      "2\n",
      "3\n",
      "4\n",
      "5\n",
      "finish\n"
     ]
    }
   ],
   "source": [
    "for i in range(10):\n",
    "    if i == 6:\n",
    "        print('finish')\n",
    "        break\n",
    "    print(i)"
   ]
  },
  {
   "cell_type": "code",
   "execution_count": 43,
   "id": "964fa874-0a19-4368-a85b-13ae71af732e",
   "metadata": {},
   "outputs": [
    {
     "name": "stdout",
     "output_type": "stream",
     "text": [
      "0\n",
      "1\n",
      "2\n",
      "4\n",
      "5\n",
      "6\n",
      "7\n",
      "8\n",
      "9\n"
     ]
    }
   ],
   "source": [
    "for i in range(10):\n",
    "    if i == 3:\n",
    "        continue\n",
    "    print(i)"
   ]
  },
  {
   "cell_type": "code",
   "execution_count": 7,
   "id": "3af24e73-f3cb-44b0-8073-15e6f035baaf",
   "metadata": {},
   "outputs": [
    {
     "name": "stdout",
     "output_type": "stream",
     "text": [
      "Kato yuichi\n",
      "Sato takuya\n",
      "Tanaka shoko\n"
     ]
    }
   ],
   "source": [
    "lasts = ['Kato', 'Sato','Tanaka']\n",
    "firsts = ['yuichi', 'takuya','shoko']\n",
    "\n",
    "for last, first in zip(lasts, firsts):\n",
    "    print(last+' '+first)"
   ]
  },
  {
   "cell_type": "code",
   "execution_count": 9,
   "id": "92409a13-1759-4c8b-b102-6968a9e22ffa",
   "metadata": {},
   "outputs": [],
   "source": [
    "lasts = ['Kato', 'Sato','Tokoro']"
   ]
  },
  {
   "cell_type": "code",
   "execution_count": 10,
   "id": "69361dcc-b7ad-4072-9539-4b8a8958f31a",
   "metadata": {},
   "outputs": [
    {
     "name": "stdout",
     "output_type": "stream",
     "text": [
      "The number 0 of Kato\n",
      "The number 1 of Sato\n",
      "The number 2 of Tokoro\n"
     ]
    }
   ],
   "source": [
    "for i, last in enumerate(lasts):\n",
    "    print(f'The number {i} of {last}')"
   ]
  },
  {
   "cell_type": "code",
   "execution_count": 86,
   "id": "1e8600c9-aa6e-4629-bb62-f2be5ee06990",
   "metadata": {},
   "outputs": [
    {
     "data": {
      "text/plain": [
       "[]"
      ]
     },
     "execution_count": 86,
     "metadata": {},
     "output_type": "execute_result"
    }
   ],
   "source": [
    "nums = []\n",
    "nums"
   ]
  },
  {
   "cell_type": "code",
   "execution_count": 87,
   "id": "22f5f887-2a2e-4f8d-be3e-20cc68d959a2",
   "metadata": {},
   "outputs": [],
   "source": [
    "for i in range(5):\n",
    "    nums.append(2 * i)"
   ]
  },
  {
   "cell_type": "code",
   "execution_count": 88,
   "id": "d20cdb53-28a2-4050-baa1-714d13f773a4",
   "metadata": {},
   "outputs": [
    {
     "data": {
      "text/plain": [
       "[0, 2, 4, 6, 8]"
      ]
     },
     "execution_count": 88,
     "metadata": {},
     "output_type": "execute_result"
    }
   ],
   "source": [
    "nums"
   ]
  },
  {
   "cell_type": "code",
   "execution_count": 13,
   "id": "5257fa16-b3e2-4b6e-af74-d09d242beb3b",
   "metadata": {},
   "outputs": [],
   "source": [
    "numbers = [2*i for i in range(10)]"
   ]
  },
  {
   "cell_type": "code",
   "execution_count": 14,
   "id": "429a1c1a-f66d-47b6-9a45-48fe7d9244e2",
   "metadata": {},
   "outputs": [
    {
     "data": {
      "text/plain": [
       "[0, 2, 4, 6, 8, 10, 12, 14, 16, 18]"
      ]
     },
     "execution_count": 14,
     "metadata": {},
     "output_type": "execute_result"
    }
   ],
   "source": [
    "numbers"
   ]
  },
  {
   "cell_type": "raw",
   "id": "e729119d-88d8-4c65-a523-a82623716984",
   "metadata": {},
   "source": []
  },
  {
   "cell_type": "code",
   "execution_count": 2,
   "id": "069b0d93-61d4-42fa-8e9e-b642f54480f9",
   "metadata": {},
   "outputs": [
    {
     "name": "stdout",
     "output_type": "stream",
     "text": [
      "result is : 2.5\n"
     ]
    }
   ],
   "source": [
    "num = 4\n",
    "try:\n",
    "    print(f'result is : {10/num}')\n",
    "except ZeroDivisionError as e:\n",
    "    print('error')"
   ]
  },
  {
   "cell_type": "code",
   "execution_count": 102,
   "id": "a3da6bc9-4087-4457-874e-80820d84fdf3",
   "metadata": {},
   "outputs": [],
   "source": [
    "def divide(a, b):\n",
    "    try:\n",
    "        print(f'culcu: {a/b}')\n",
    "    except ZeroDivisionError as e:\n",
    "        print(e)\n",
    "    except TypeError as e:\n",
    "        print(e)"
   ]
  },
  {
   "cell_type": "code",
   "execution_count": 104,
   "id": "0442e8bc-73c1-4605-a090-4a91d0c737fc",
   "metadata": {},
   "outputs": [
    {
     "name": "stdout",
     "output_type": "stream",
     "text": [
      "unsupported operand type(s) for /: 'int' and 'str'\n"
     ]
    }
   ],
   "source": [
    "divide(10, 'zero')"
   ]
  },
  {
   "cell_type": "code",
   "execution_count": 111,
   "id": "e1373fa4-8cb3-4247-8092-c7ef60af2b79",
   "metadata": {},
   "outputs": [],
   "source": [
    "def divide(a, b):\n",
    "    try:\n",
    "        print(f'culcu: {a/b}')\n",
    "    except ZeroDivisionError as e:\n",
    "        print(e)\n",
    "    except TypeError as e:\n",
    "        print(e)\n",
    "    else:\n",
    "        print('finish')"
   ]
  },
  {
   "cell_type": "code",
   "execution_count": 112,
   "id": "348352ea-fb70-4f14-9bfa-828b38cb7353",
   "metadata": {},
   "outputs": [
    {
     "name": "stdout",
     "output_type": "stream",
     "text": [
      "culcu: 5.0\n",
      "finish\n"
     ]
    }
   ],
   "source": [
    "divide(10, 2)"
   ]
  },
  {
   "cell_type": "code",
   "execution_count": 114,
   "id": "89fd61a9-96eb-4021-bebd-04ee9483893d",
   "metadata": {},
   "outputs": [],
   "source": [
    "def divide(a, b):\n",
    "    try:\n",
    "        print(f'culcu: {a/b}')\n",
    "    except ZeroDivisionError as e:\n",
    "        print(e)\n",
    "    except TypeError as e:\n",
    "        print(e)\n",
    "    finally:\n",
    "        print('finish all')"
   ]
  },
  {
   "cell_type": "code",
   "execution_count": 115,
   "id": "c337afea-4b5e-4556-8aa9-3b95e4e26367",
   "metadata": {},
   "outputs": [
    {
     "name": "stdout",
     "output_type": "stream",
     "text": [
      "culcu: 5.0\n",
      "finish all\n"
     ]
    }
   ],
   "source": [
    "divide(10, 2)"
   ]
  },
  {
   "cell_type": "code",
   "execution_count": 116,
   "id": "8697e227-12dc-4d3f-9fc8-89ef2d704959",
   "metadata": {},
   "outputs": [],
   "source": [
    "def divide(a, b):\n",
    "    try:\n",
    "        print(f'culcu: {a/b}')\n",
    "    except ZeroDivisionError as e:\n",
    "        print(e)\n",
    "    except TypeError as e:\n",
    "        pass\n",
    "    finally:\n",
    "        print('finish all')"
   ]
  },
  {
   "cell_type": "code",
   "execution_count": 117,
   "id": "f4a49975-4ed1-4fb8-9a8a-012f791a609a",
   "metadata": {},
   "outputs": [
    {
     "name": "stdout",
     "output_type": "stream",
     "text": [
      "finish all\n"
     ]
    }
   ],
   "source": [
    "divide(10, 'zero')"
   ]
  },
  {
   "cell_type": "code",
   "execution_count": 123,
   "id": "754f55c0-a1ac-4c4e-a3d7-46f4d8151ab7",
   "metadata": {},
   "outputs": [],
   "source": [
    "class Person:\n",
    "    nationality = 'Japan'\n",
    "\n",
    "    def say_hello(self):\n",
    "        print(f'Hello! My nationality is {self.nationality}')"
   ]
  },
  {
   "cell_type": "code",
   "execution_count": 125,
   "id": "b86954f7-c365-45ed-8761-c9b09281183a",
   "metadata": {},
   "outputs": [],
   "source": [
    "person = Person()"
   ]
  },
  {
   "cell_type": "code",
   "execution_count": 126,
   "id": "0c677299-9715-4a3b-9c40-28295701938e",
   "metadata": {},
   "outputs": [
    {
     "data": {
      "text/plain": [
       "'Japan'"
      ]
     },
     "execution_count": 126,
     "metadata": {},
     "output_type": "execute_result"
    }
   ],
   "source": [
    "person.nationality"
   ]
  },
  {
   "cell_type": "code",
   "execution_count": 127,
   "id": "404f5809-df7a-4136-959a-1ed14773101f",
   "metadata": {},
   "outputs": [
    {
     "name": "stdout",
     "output_type": "stream",
     "text": [
      "Hello! My nationality is Japan\n"
     ]
    }
   ],
   "source": [
    "person.say_hello()"
   ]
  },
  {
   "cell_type": "code",
   "execution_count": 128,
   "id": "6dff53f0-fa1e-475e-9825-a6b730bd3261",
   "metadata": {},
   "outputs": [],
   "source": [
    "class Person:\n",
    "    nationality = 'Japan'\n",
    "\n",
    "    def __init__(self, name):\n",
    "        self.name = name\n",
    "        \n",
    "    def say_hello(self):\n",
    "        print(f'Hello! My nationality is {self.nationality}')\n",
    "\n",
    "    def say_my_name(self):\n",
    "        print(f'My name is {self.name}')"
   ]
  },
  {
   "cell_type": "code",
   "execution_count": 129,
   "id": "bc6e00d7-f487-4027-9c0c-2d0ca8857f67",
   "metadata": {},
   "outputs": [],
   "source": [
    "sable = Person('SABLE')"
   ]
  },
  {
   "cell_type": "code",
   "execution_count": 130,
   "id": "9f5a2fcb-6699-4a7e-bb64-70ff2091aa45",
   "metadata": {},
   "outputs": [
    {
     "data": {
      "text/plain": [
       "'Japan'"
      ]
     },
     "execution_count": 130,
     "metadata": {},
     "output_type": "execute_result"
    }
   ],
   "source": [
    "sable.nationality"
   ]
  },
  {
   "cell_type": "code",
   "execution_count": 131,
   "id": "2805ce57-ad27-49a0-9576-058b3b4c82f9",
   "metadata": {},
   "outputs": [
    {
     "data": {
      "text/plain": [
       "'SABLE'"
      ]
     },
     "execution_count": 131,
     "metadata": {},
     "output_type": "execute_result"
    }
   ],
   "source": [
    "sable.name"
   ]
  },
  {
   "cell_type": "code",
   "execution_count": 133,
   "id": "4b9db24e-007c-4adb-adac-3ca4234fa1e1",
   "metadata": {},
   "outputs": [
    {
     "name": "stdout",
     "output_type": "stream",
     "text": [
      "My name is SABLE\n"
     ]
    }
   ],
   "source": [
    "sable.say_my_name()"
   ]
  },
  {
   "cell_type": "code",
   "execution_count": 134,
   "id": "0560a787-dc73-48d1-9269-85bf44ae438a",
   "metadata": {},
   "outputs": [
    {
     "name": "stdout",
     "output_type": "stream",
     "text": [
      "Hello! My nationality is Japan\n"
     ]
    }
   ],
   "source": [
    "sable.say_hello()"
   ]
  },
  {
   "cell_type": "code",
   "execution_count": 136,
   "id": "793e54a3-2804-4474-8915-333b19efc312",
   "metadata": {},
   "outputs": [],
   "source": [
    "class Kid(Person):\n",
    "    def say_hello(self, age):\n",
    "        print(f'My name is {self.name}, My age is {age}')"
   ]
  },
  {
   "cell_type": "code",
   "execution_count": 138,
   "id": "0630aac6-1f7d-42da-8d72-c76f42e9f5b7",
   "metadata": {},
   "outputs": [],
   "source": [
    "kid = Kid('Lily')"
   ]
  },
  {
   "cell_type": "code",
   "execution_count": 139,
   "id": "5cde70d7-0ce5-45ca-8259-7b24a744cef2",
   "metadata": {},
   "outputs": [
    {
     "data": {
      "text/plain": [
       "'Lily'"
      ]
     },
     "execution_count": 139,
     "metadata": {},
     "output_type": "execute_result"
    }
   ],
   "source": [
    "kid.name"
   ]
  },
  {
   "cell_type": "code",
   "execution_count": 140,
   "id": "640fd243-61e3-4772-80d5-1a00af6aeaab",
   "metadata": {},
   "outputs": [
    {
     "data": {
      "text/plain": [
       "'Japan'"
      ]
     },
     "execution_count": 140,
     "metadata": {},
     "output_type": "execute_result"
    }
   ],
   "source": [
    "kid.nationality"
   ]
  },
  {
   "cell_type": "code",
   "execution_count": 141,
   "id": "5e681b65-ee0c-429c-8801-ceb96cb8d9f3",
   "metadata": {},
   "outputs": [
    {
     "name": "stdout",
     "output_type": "stream",
     "text": [
      "My name is Lily, My age is 12\n"
     ]
    }
   ],
   "source": [
    "kid.say_hello(12)"
   ]
  }
 ],
 "metadata": {
  "kernelspec": {
   "display_name": "Python 3 (ipykernel)",
   "language": "python",
   "name": "python3"
  },
  "language_info": {
   "codemirror_mode": {
    "name": "ipython",
    "version": 3
   },
   "file_extension": ".py",
   "mimetype": "text/x-python",
   "name": "python",
   "nbconvert_exporter": "python",
   "pygments_lexer": "ipython3",
   "version": "3.10.0"
  }
 },
 "nbformat": 4,
 "nbformat_minor": 5
}
