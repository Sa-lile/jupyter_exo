{
 "cells": [
  {
   "cell_type": "code",
   "execution_count": 1,
   "id": "6d251f94-e0f4-4a48-8d23-47549d902804",
   "metadata": {},
   "outputs": [],
   "source": [
    "def calc(base, height):\n",
    "    return base * height/2"
   ]
  },
  {
   "cell_type": "code",
   "execution_count": 2,
   "id": "61ddf2e4-9646-477d-8e4f-dc19ee8fa268",
   "metadata": {},
   "outputs": [
    {
     "data": {
      "text/plain": [
       "25.0"
      ]
     },
     "execution_count": 2,
     "metadata": {},
     "output_type": "execute_result"
    }
   ],
   "source": [
    "calc(5, 10)"
   ]
  },
  {
   "cell_type": "code",
   "execution_count": 4,
   "id": "b46f5aae-9416-4f76-8d36-3991edbce226",
   "metadata": {},
   "outputs": [
    {
     "data": {
      "text/plain": [
       "25.0"
      ]
     },
     "execution_count": 4,
     "metadata": {},
     "output_type": "execute_result"
    }
   ],
   "source": [
    "(lambda base, height: base*height/2)(5, 10)"
   ]
  },
  {
   "cell_type": "code",
   "execution_count": 5,
   "id": "b951d53e-b7d9-4732-a756-b94505242ab1",
   "metadata": {},
   "outputs": [],
   "source": [
    "func = lambda base, height: base*height/2"
   ]
  },
  {
   "cell_type": "code",
   "execution_count": 6,
   "id": "b553f61d-fa54-4ee8-8d92-defc73f930e6",
   "metadata": {},
   "outputs": [
    {
     "data": {
      "text/plain": [
       "25.0"
      ]
     },
     "execution_count": 6,
     "metadata": {},
     "output_type": "execute_result"
    }
   ],
   "source": [
    "func(5, 10)"
   ]
  },
  {
   "cell_type": "code",
   "execution_count": 8,
   "id": "d9396e2e-54b5-42e8-9c9a-07c7a09a95c6",
   "metadata": {},
   "outputs": [],
   "source": [
    "students = ['Imanishi', 'IMANU', 'saito', 'Suzuki', 'Tanaka']"
   ]
  },
  {
   "cell_type": "code",
   "execution_count": 9,
   "id": "e3eecf21-7d4b-4b6c-845d-f46d2bd1eab5",
   "metadata": {},
   "outputs": [
    {
     "data": {
      "text/plain": [
       "['IMANISHI', 'IMANU', 'SAITO', 'SUZUKI', 'TANAKA']"
      ]
     },
     "execution_count": 9,
     "metadata": {},
     "output_type": "execute_result"
    }
   ],
   "source": [
    "new_students = []\n",
    "for student in students:\n",
    "    new_students.append(student.upper())\n",
    "\n",
    "new_students"
   ]
  },
  {
   "cell_type": "code",
   "execution_count": 11,
   "id": "fa44ab45-13bc-4892-95fe-d7993542aaaf",
   "metadata": {},
   "outputs": [
    {
     "data": {
      "text/plain": [
       "['IMANISHI', 'IMANU', 'SAITO', 'SUZUKI', 'TANAKA']"
      ]
     },
     "execution_count": 11,
     "metadata": {},
     "output_type": "execute_result"
    }
   ],
   "source": [
    "[student.upper() for student in students]"
   ]
  },
  {
   "cell_type": "code",
   "execution_count": 12,
   "id": "b5016cd5-89c8-4588-b098-ac873b34ab60",
   "metadata": {},
   "outputs": [
    {
     "data": {
      "text/plain": [
       "['IMANISHI', 'IMANU', 'SAITO', 'SUZUKI', 'TANAKA']"
      ]
     },
     "execution_count": 12,
     "metadata": {},
     "output_type": "execute_result"
    }
   ],
   "source": [
    "list(map(lambda student: student.upper(), students))"
   ]
  }
 ],
 "metadata": {
  "kernelspec": {
   "display_name": "Python 3 (ipykernel)",
   "language": "python",
   "name": "python3"
  },
  "language_info": {
   "codemirror_mode": {
    "name": "ipython",
    "version": 3
   },
   "file_extension": ".py",
   "mimetype": "text/x-python",
   "name": "python",
   "nbconvert_exporter": "python",
   "pygments_lexer": "ipython3",
   "version": "3.11.6"
  }
 },
 "nbformat": 4,
 "nbformat_minor": 5
}
